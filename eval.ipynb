{
 "cells": [
  {
   "cell_type": "code",
   "execution_count": 15,
   "id": "be41aa14-bc89-4a1d-8f36-f5e8a65fb382",
   "metadata": {},
   "outputs": [],
   "source": [
    "import torch \n",
    "from train import generate_square_mask\n",
    "\n",
    "def generate_from_prefix(model, tokenizer, examples, device, prefix, max_len=200, temperature=1.0):\n",
    "    model.eval()\n",
    "    for i in range(max_len - prefix.shape[-1]):\n",
    "        prefix = prefix.clone().detach()\n",
    "        target_mask = generate_square_mask(prefix.shape[1], device)\n",
    "        target_pad_mask = (prefix == tokenizer.pad_id()).to(device)\n",
    "\n",
    "        logits = model(prefix, target_mask, target_pad_mask)\n",
    "        logits = logits[:, -1, :] / temperature\n",
    "        next_token = torch.multinomial(logits.softmax(dim=-1), num_samples=1)\n",
    "        prefix = torch.cat((prefix, next_token), dim=-1)\n",
    "    return tokenizer.decode(prefix.cpu().tolist())"
   ]
  },
  {
   "cell_type": "code",
   "execution_count": 3,
   "id": "6d2a6c02-5e35-4acb-beb8-ca2e3356012b",
   "metadata": {},
   "outputs": [],
   "source": [
    "from data import get_tokenizer\n",
    "tokenizer = get_tokenizer()"
   ]
  },
  {
   "cell_type": "code",
   "execution_count": 6,
   "id": "cde0661e-f578-47e1-ab63-684cc348ea54",
   "metadata": {},
   "outputs": [],
   "source": [
    "device = \"cuda\"\n",
    "checkpoint = torch.load(\"/notebooks/model.pth\", device)"
   ]
  },
  {
   "cell_type": "code",
   "execution_count": 9,
   "id": "ab0f8e4b-f0ff-4f02-8d34-7ab64431bf94",
   "metadata": {},
   "outputs": [
    {
     "data": {
      "text/plain": [
       "<All keys matched successfully>"
      ]
     },
     "execution_count": 9,
     "metadata": {},
     "output_type": "execute_result"
    }
   ],
   "source": [
    "from model import LLaMA\n",
    "import config\n",
    "\n",
    "model = LLaMA(config.VOCAB_SIZE, config.EMBED_DIM, config.N_HEADS, config.HIDDEN_DIM, config.NUM_LAYERS, config.MAX_SEQ_LEN).to(device)\n",
    "model.load_state_dict(checkpoint)\n"
   ]
  },
  {
   "cell_type": "code",
   "execution_count": 20,
   "id": "64b0044e-ed30-483c-b84f-e8cd30565c5b",
   "metadata": {},
   "outputs": [],
   "source": [
    "prompt = \"Once upon a time\"\n",
    "indexes = tokenizer.encode(prompt)\n",
    "prefix = torch.tensor([[tokenizer.bos_id()] + indexes])\n",
    "prefix = prefix.to(device)\n",
    "\n",
    "text = generate_from_prefix(model, tokenizer, 1, \"cuda\", max_len=256, prefix=prefix)"
   ]
  },
  {
   "cell_type": "code",
   "execution_count": 21,
   "id": "9bd27c21-60d5-4c5d-8971-009b2068d9f9",
   "metadata": {},
   "outputs": [
    {
     "data": {
      "text/plain": [
       "[\"Once upon a time, there was a little dog named True. True was a patient dog who liked to play and wait for the sun to shine on his back. One day, True found a big piece of gum. He didn't know what it was, so he tried to tell his friends.True's friends saw him trying to resist while playing. They liked gum, so they made it into the sun and put it away when they hid it. Tim felt happy and proud, just like his new trusted his friends. went to show his friends his new friends. was so much fun! now and Max played with their new gum. They all played together, and Max was always happy to have the gum, so they could share it. was happy to be part of the fun he had with it. went on, and Max couldn't wait to play again. made many happy days with their new gum. all by himself, and Max would often let her go of gum. by little and play with him, and they all became good friends. stayed fit, and Max would take shape for the rest of his days. on time, would not feel happy because it. stayed at\"]"
      ]
     },
     "execution_count": 21,
     "metadata": {},
     "output_type": "execute_result"
    }
   ],
   "source": [
    "text"
   ]
  },
  {
   "cell_type": "code",
   "execution_count": 22,
   "id": "d9776d75-b0cf-40e1-96a6-612861d32135",
   "metadata": {},
   "outputs": [],
   "source": [
    "texts = []\n",
    "for t in [0.7, 0.8, 0.9, 1, 1.1, 1.2]:\n",
    "    texts.append(generate_from_prefix(model, tokenizer, 1, \"cuda\", max_len=256, prefix=prefix, temperature=t))"
   ]
  },
  {
   "cell_type": "code",
   "execution_count": 24,
   "id": "2e59cf71-4a8d-4828-a561-822415eefae9",
   "metadata": {},
   "outputs": [
    {
     "data": {
      "text/plain": [
       "[['Once upon a time, there was a little boy named Tim. Tim loved to play with his toys and have fun. One day, Tim found a big, round ball that he liked very much. It was red and shiny. He played with it all day long.Tim\\'s mom saw him playing with the round ball. She wanted to encourage him to play too. So, Tim went to the window and took the round ball. He saw a big, green light in the sky. He wanted to reach it, but it was too high. Tim had a big smile on his face.Tim\\'s mom saw him playing with the red ball. She told him, \"Tim, you need to practice. Don\\'t go to the moon, he can get it.\" Tim listened to his mom and practiced. He knew it was important to be careful and not to be too far away from the big, pointy light., and Tim learned that it was not always good to be safe. and Tim played with the big, round ball.s always safe and never let it go. Tim learned that it was better to be safe and listen to his mom.s and never let his play with.s and'],\n",
       " [\"Once upon a time, there was a lazy cat named Tom. Tom had a big box of junk in his house. He loved to sleep all day and sleep at night. Tom's mom was in the kitchen, making breakfast for him. Tom's mom had an idea. She took Tom to the kitchen and gave him some milk, and he started to work.Tom's mom tried to get him, but he was not very good at all. He was very happy and could not wait to eat all of the junk. Tom's mom was not happy. She took Tom to the kitchen and shared the food with him. Tom ate all of the food and was not lazy anymore. He was very happy with his mom. and Tom played with his toys and slept with his mom.s when Tom was not feeling lazy. He was not so lazy anymore. stayed on and slept happily ever after. was not lazy anymore. of power of things he could do before it was time. Tom's mom was very proud of him, and Tom was not lazy anymore.s and he played with his friends every day.s, and he loved his bed and he lived happily ever after. of rest\"],\n",
       " ['Once upon a time, there was a little girl named Sally. Sally loved to play with her toys and make up stories. One day, Sally found a big box of equipment in her room. She thought it would be fun to play with the equipment.Sally\\'s mom saw her with the equipment and said, \"Be careful, Sally. Don\\'t throw to her!\" But Sally remembered her mom always told her to be careful. She promised her mom that she should not throw things without asking her mom first.From that day on, Sally and her friends played with the equipment every day. She learned to be patient and careful with the equipment, and she was happy to have helped her friends. The moral of the story is to always ask for permission before you eat something, and to always be careful.s more things you play with them, and you should always listen to your parents. when someone comes for you and the best to surprise you.s and see how happy the story you listened to and safely.s and with a loud games, and now.s always remembered the rule to help prevent people from foolish things too or uncertain.,s'],\n",
       " ['Once upon a time, there was a big, filthy carrot. It lived in a forest with its friends, the animals, and the elephant. The carrot lived in a drawer with many friends.One hot egg was very hot and was scared. The animals loved to yell to help the farmer, but they all ran away to find a place to stop the mess. The fire made the food cold and spicy.The filthy carrot made the sneezing sound and fell in all the water. The little animals saw the messy gear and wanted to help. They all ran until the fire was gone. The animals were very happy and thanked the hungry rabbit and its friends. The end. ever felt good for helping someone. was glad they could help the farmer. forever, never wanted to go again. and its friends stayed cool and dangerous, the farm was never cold again. again, and the big, filthy carrot lived happily ever after., and they all learned that it was nice to have happy to be a friend. again, but they could be of reach the world. to keep everyone and safe and warm., and all became good for the little. stayed in and still., and'],\n",
       " ['Once upon a time there were two best friends called Jack and Jill. They were a rabbit and Jill were very happy there. They spent lots of time playing together on a sunny day. Jack said to Jill, \"Let\\'s have a game ⁇  decided to search for our favorite toy, an orange basketball!\" Jill smiled and said, \"Yes! Please I have a basketball so I can offer you!\"They went to his yard and put on their clothes, and started playing the game. Jack looked at Jill\\'s toys and asked, \"Jack, run!\"Jill giggled and said, \"You did a great job!\"At first, soon enough, they were finished. When all of Alex\\'s room was finished, next to Jill and Jack raced back to Jill and they both looked at their toy. It was so good and of it that they never gave each other. In unisons end, they all said goodbye and Jill and Matt went back out on their way, feeling miserable and sad. They had nowhere in their hearts, who made everything better again. was none alone., with a happy ending, they reminded their stormy adventure Saf into a happy ending. still Polly and left content when they told they wents wine never to'],\n",
       " ['Once upon a time, there was a little girl named Anna. Pip was only three years old and loved to spend time outdoors. One day it was a sunny strolling house in a small tradition alley.When Anna went to the park to play, it seemed to give her other favorite games to play. But today and Anna found it crazy out at the same time. She was so curious! After some silence and some of aoren whispered, \"Hello!\"The game finally decided they would play together and have lots of fun inside where it started. Before long and it could play any longer, Anna heard a loud boomening noise and demanded one of the children, and so well. This made Anna and her other frightened who asked,  ⁇ Does one memory ⁇  and that two of them noticed the playroom, then decided to help! Everyone around how examined the puzzle, Flora enjoyed her newfound joy in her cell.Lind kept she entertained and each time for one to leave the other for poem the day, remembers that every day she would forget it again in the same class. wouldRA side adding to Abbie\\'s anx to reassure and she pounced.s right from the brave rounds and hard work forget it brought with them unique, yet the mis was much nicer']]"
      ]
     },
     "execution_count": 24,
     "metadata": {},
     "output_type": "execute_result"
    }
   ],
   "source": [
    "texts"
   ]
  },
  {
   "cell_type": "code",
   "execution_count": 25,
   "id": "8aae097a-6bfc-44e6-b1f3-2fd329d61004",
   "metadata": {},
   "outputs": [
    {
     "name": "stdout",
     "output_type": "stream",
     "text": [
      "Collecting evaluate\n",
      "  Downloading evaluate-0.4.1-py3-none-any.whl (84 kB)\n",
      "\u001b[2K     \u001b[90m━━━━━━━━━━━━━━━━━━━━━━━━━━━━━━━━━━━━━━━━\u001b[0m \u001b[32m84.1/84.1 kB\u001b[0m \u001b[31m21.7 MB/s\u001b[0m eta \u001b[36m0:00:00\u001b[0m\n",
      "\u001b[?25hRequirement already satisfied: requests>=2.19.0 in /usr/local/lib/python3.9/dist-packages (from evaluate) (2.28.2)\n",
      "Requirement already satisfied: dill in /usr/local/lib/python3.9/dist-packages (from evaluate) (0.3.5.1)\n",
      "Requirement already satisfied: xxhash in /usr/local/lib/python3.9/dist-packages (from evaluate) (3.2.0)\n",
      "Requirement already satisfied: multiprocess in /usr/local/lib/python3.9/dist-packages (from evaluate) (0.70.13)\n",
      "Requirement already satisfied: datasets>=2.0.0 in /usr/local/lib/python3.9/dist-packages (from evaluate) (2.4.0)\n",
      "Requirement already satisfied: huggingface-hub>=0.7.0 in /usr/local/lib/python3.9/dist-packages (from evaluate) (0.12.0)\n",
      "Requirement already satisfied: responses<0.19 in /usr/local/lib/python3.9/dist-packages (from evaluate) (0.18.0)\n",
      "Requirement already satisfied: pandas in /usr/local/lib/python3.9/dist-packages (from evaluate) (1.5.0)\n",
      "Requirement already satisfied: tqdm>=4.62.1 in /usr/local/lib/python3.9/dist-packages (from evaluate) (4.64.1)\n",
      "Requirement already satisfied: packaging in /usr/local/lib/python3.9/dist-packages (from evaluate) (23.0)\n",
      "Requirement already satisfied: fsspec[http]>=2021.05.0 in /usr/local/lib/python3.9/dist-packages (from evaluate) (2023.1.0)\n",
      "Requirement already satisfied: numpy>=1.17 in /usr/local/lib/python3.9/dist-packages (from evaluate) (1.23.4)\n",
      "Requirement already satisfied: aiohttp in /usr/local/lib/python3.9/dist-packages (from datasets>=2.0.0->evaluate) (3.8.3)\n",
      "Requirement already satisfied: pyarrow>=6.0.0 in /usr/local/lib/python3.9/dist-packages (from datasets>=2.0.0->evaluate) (10.0.1)\n",
      "Requirement already satisfied: typing-extensions>=3.7.4.3 in /usr/local/lib/python3.9/dist-packages (from huggingface-hub>=0.7.0->evaluate) (4.4.0)\n",
      "Requirement already satisfied: filelock in /usr/local/lib/python3.9/dist-packages (from huggingface-hub>=0.7.0->evaluate) (3.9.0)\n",
      "Requirement already satisfied: pyyaml>=5.1 in /usr/local/lib/python3.9/dist-packages (from huggingface-hub>=0.7.0->evaluate) (5.4.1)\n",
      "Requirement already satisfied: idna<4,>=2.5 in /usr/lib/python3/dist-packages (from requests>=2.19.0->evaluate) (2.8)\n",
      "Requirement already satisfied: charset-normalizer<4,>=2 in /usr/local/lib/python3.9/dist-packages (from requests>=2.19.0->evaluate) (2.1.1)\n",
      "Requirement already satisfied: urllib3<1.27,>=1.21.1 in /usr/local/lib/python3.9/dist-packages (from requests>=2.19.0->evaluate) (1.26.14)\n",
      "Requirement already satisfied: certifi>=2017.4.17 in /usr/lib/python3/dist-packages (from requests>=2.19.0->evaluate) (2019.11.28)\n",
      "Requirement already satisfied: pytz>=2020.1 in /usr/local/lib/python3.9/dist-packages (from pandas->evaluate) (2022.7.1)\n",
      "Requirement already satisfied: python-dateutil>=2.8.1 in /usr/local/lib/python3.9/dist-packages (from pandas->evaluate) (2.8.2)\n",
      "Requirement already satisfied: async-timeout<5.0,>=4.0.0a3 in /usr/local/lib/python3.9/dist-packages (from aiohttp->datasets>=2.0.0->evaluate) (4.0.2)\n",
      "Requirement already satisfied: multidict<7.0,>=4.5 in /usr/local/lib/python3.9/dist-packages (from aiohttp->datasets>=2.0.0->evaluate) (6.0.4)\n",
      "Requirement already satisfied: frozenlist>=1.1.1 in /usr/local/lib/python3.9/dist-packages (from aiohttp->datasets>=2.0.0->evaluate) (1.3.3)\n",
      "Requirement already satisfied: attrs>=17.3.0 in /usr/local/lib/python3.9/dist-packages (from aiohttp->datasets>=2.0.0->evaluate) (18.2.0)\n",
      "Requirement already satisfied: yarl<2.0,>=1.0 in /usr/local/lib/python3.9/dist-packages (from aiohttp->datasets>=2.0.0->evaluate) (1.8.2)\n",
      "Requirement already satisfied: aiosignal>=1.1.2 in /usr/local/lib/python3.9/dist-packages (from aiohttp->datasets>=2.0.0->evaluate) (1.3.1)\n",
      "Requirement already satisfied: six>=1.5 in /usr/lib/python3/dist-packages (from python-dateutil>=2.8.1->pandas->evaluate) (1.14.0)\n",
      "Installing collected packages: evaluate\n",
      "Successfully installed evaluate-0.4.1\n",
      "\u001b[33mWARNING: Running pip as the 'root' user can result in broken permissions and conflicting behaviour with the system package manager. It is recommended to use a virtual environment instead: https://pip.pypa.io/warnings/venv\u001b[0m\u001b[33m\n",
      "\u001b[0m"
     ]
    }
   ],
   "source": [
    "!pip3 install evaluate"
   ]
  },
  {
   "cell_type": "code",
   "execution_count": 26,
   "id": "cd89756e-e1fe-4143-87b7-7b8447999633",
   "metadata": {},
   "outputs": [
    {
     "data": {
      "application/vnd.jupyter.widget-view+json": {
       "model_id": "8b8405c169eb4554bd8012b9cdee324b",
       "version_major": 2,
       "version_minor": 0
      },
      "text/plain": [
       "Downloading builder script:   0%|          | 0.00/8.46k [00:00<?, ?B/s]"
      ]
     },
     "metadata": {},
     "output_type": "display_data"
    }
   ],
   "source": [
    "import evaluate\n",
    "\n",
    "perplexity = evaluate.load(\"perplexity\", module_type=\"metric\")"
   ]
  },
  {
   "cell_type": "code",
   "execution_count": 27,
   "id": "4d84afca-bb6f-48a3-b33c-011d9269b317",
   "metadata": {},
   "outputs": [],
   "source": [
    "from train import generate\n",
    "\n",
    "evel_texts = generate(model, tokenizer, 32, device)"
   ]
  },
  {
   "cell_type": "code",
   "execution_count": 28,
   "id": "b9711d34-d878-4b15-9e7e-8699fabe7ed2",
   "metadata": {},
   "outputs": [
    {
     "data": {
      "application/vnd.jupyter.widget-view+json": {
       "model_id": "2c608a1a22c1456c856be7cf4b7c2655",
       "version_major": 2,
       "version_minor": 0
      },
      "text/plain": [
       "Downloading config.json:   0%|          | 0.00/666 [00:00<?, ?B/s]"
      ]
     },
     "metadata": {},
     "output_type": "display_data"
    },
    {
     "data": {
      "application/vnd.jupyter.widget-view+json": {
       "model_id": "2f84a875e14b4b1a971da5b8552b45cd",
       "version_major": 2,
       "version_minor": 0
      },
      "text/plain": [
       "Downloading pytorch_model.bin:   0%|          | 0.00/3.02G [00:00<?, ?B/s]"
      ]
     },
     "metadata": {},
     "output_type": "display_data"
    },
    {
     "data": {
      "application/vnd.jupyter.widget-view+json": {
       "model_id": "082e8af7e8e84cb8ac14be6d5d0aca55",
       "version_major": 2,
       "version_minor": 0
      },
      "text/plain": [
       "Downloading vocab.json:   0%|          | 0.00/0.99M [00:00<?, ?B/s]"
      ]
     },
     "metadata": {},
     "output_type": "display_data"
    },
    {
     "data": {
      "application/vnd.jupyter.widget-view+json": {
       "model_id": "9ca6371c770b47c9af879ac074619a25",
       "version_major": 2,
       "version_minor": 0
      },
      "text/plain": [
       "Downloading merges.txt:   0%|          | 0.00/446k [00:00<?, ?B/s]"
      ]
     },
     "metadata": {},
     "output_type": "display_data"
    },
    {
     "data": {
      "application/vnd.jupyter.widget-view+json": {
       "model_id": "f5e375c347844687b82574de5b2a4c72",
       "version_major": 2,
       "version_minor": 0
      },
      "text/plain": [
       "Downloading tokenizer.json:   0%|          | 0.00/1.29M [00:00<?, ?B/s]"
      ]
     },
     "metadata": {},
     "output_type": "display_data"
    },
    {
     "name": "stderr",
     "output_type": "stream",
     "text": [
      "Using pad_token, but it is not set yet.\n"
     ]
    },
    {
     "data": {
      "application/vnd.jupyter.widget-view+json": {
       "model_id": "9b13f4b12c2c4fbd847f2fda71c4deb6",
       "version_major": 2,
       "version_minor": 0
      },
      "text/plain": [
       "  0%|          | 0/1 [00:00<?, ?it/s]"
      ]
     },
     "metadata": {},
     "output_type": "display_data"
    }
   ],
   "source": [
    "results = perplexity.compute(predictions=evel_texts, batch_size=32, model_id='gpt2-large', device=device)"
   ]
  },
  {
   "cell_type": "code",
   "execution_count": 29,
   "id": "d9bd9a20-e5e5-4428-8695-8ac66a9ef9d4",
   "metadata": {},
   "outputs": [
    {
     "data": {
      "text/plain": [
       "21.43602228164673"
      ]
     },
     "execution_count": 29,
     "metadata": {},
     "output_type": "execute_result"
    }
   ],
   "source": [
    "results['mean_perplexity']"
   ]
  },
  {
   "cell_type": "markdown",
   "id": "ddff3243-3c8d-43a9-be24-a43cce39ff04",
   "metadata": {},
   "source": [
    "## GPT2-XL"
   ]
  },
  {
   "cell_type": "code",
   "execution_count": 2,
   "id": "25c97143-691b-4f4c-855e-3deb8fad9aad",
   "metadata": {},
   "outputs": [],
   "source": [
    "from transformers import AutoTokenizer, AutoModelForCausalLM\n",
    "\n",
    "tokenizer = AutoTokenizer.from_pretrained(\"gpt2-xl\")\n",
    "model = AutoModelForCausalLM.from_pretrained(\"gpt2-xl\")"
   ]
  },
  {
   "cell_type": "code",
   "execution_count": 3,
   "id": "2ae09637-38ed-4590-95c4-e775f088956a",
   "metadata": {},
   "outputs": [],
   "source": [
    "import gc\n",
    "import torch\n",
    "\n",
    "gc.collect()\n",
    "torch.cuda.empty_cache()"
   ]
  },
  {
   "cell_type": "code",
   "execution_count": 4,
   "id": "251c0ac4-2069-472f-991c-91d907d31d73",
   "metadata": {},
   "outputs": [],
   "source": [
    "from transformers import pipeline, set_seed\n",
    "generator = pipeline('text-generation', model='gpt2-xl', device=0)"
   ]
  },
  {
   "cell_type": "code",
   "execution_count": 5,
   "id": "8e9009b3-c4f8-4456-94f9-e242a5adaafc",
   "metadata": {},
   "outputs": [
    {
     "name": "stderr",
     "output_type": "stream",
     "text": [
      "Setting `pad_token_id` to `eos_token_id`:50256 for open-end generation.\n"
     ]
    }
   ],
   "source": [
    "prompt = \"Once upon a time\"\n",
    "texts_gpt = generator(prompt, max_length=256, num_return_sequences=16)"
   ]
  },
  {
   "cell_type": "code",
   "execution_count": 7,
   "id": "96edc07b-bb8c-4e60-baef-aac68c4c3fac",
   "metadata": {},
   "outputs": [],
   "source": [
    "texts_gpt = list(map(lambda x: x['generated_text'], texts_gpt))"
   ]
  },
  {
   "cell_type": "code",
   "execution_count": 8,
   "id": "400d5deb-6946-482f-86b6-188184743522",
   "metadata": {},
   "outputs": [
    {
     "data": {
      "text/plain": [
       "[\"Once upon a time, someone wrote a story. A guy named David Foster Wallace did, and you read it, and you knew. A few stories out there now, well, I don't know much about 'em, except they're good, and there's a group of people doing the writing, and it's fun. Maybe there's some kind of relationship, and maybe that relationship exists now. I don't know. So I want to check this out.\\n\\nI'll start, because I know it's coming from a desire to be in the same place I was when I read Infinite Jest in 2004. At the time, I had already read a big pile of Wallace's work, which included a lot of short fiction. But I read Infinite Jest in a matter of days. I've told stories ever since, because it was so quickly and immediately and totally convincing that I believed it was true.\\n\\nThere's an enormous irony when you think about how much of a mainstream book you'd been expecting to receive. The story of your own literary career is something that has been almost entirely ignored during your lifetime by publishers and others. You've been the rare person in my reading community who is considered not just credible, but actually important — by serious\",\n",
       " \"Once upon a time, one could find one's way into a place by going out. Now all this is being done with computers. Now anyone can leave a website and know where they will be able to get a ride. The Internet is like the old-fashioned subway stations in New York City. Where the subway stations used to be was not a special place that has to be found, but rather it is just a place where a lot of people walk around. The Internet is going to be just like the old-fashioned subway stations. It is just a place where people come to get out. We don't need to find a route. We need to find, like it is now, a place we can go and not have to find a route. If the Internet is not such a great invention, it is still a great opportunity. Some people call it a wonderful opportunity.\\n\\nA: On a personal level, what do you see the Internet as bringing to people, both individually and collectively.\\n\\nW: There is a lot that the Internet can do that it hasn't yet, that it hasn't really got any business plan, although it can be very profitable. The most obvious is that the Internet is very good news for people who want to communicate.\",\n",
       " 'Once upon a time, it was a common practice (and still is) among some to purchase insurance on a car or other personal item over the Internet, at gun shows, or from a company that could mail a shipping label. This method is far from foolproof (some companies are shady), so it would be wise to research a company well in advance to determine how this approach is being used and whether the owner is trustworthy.\\n\\n\\nThe term \"online sales\" is only used as a euphemism, as the person or company offering your insurance does not actually sell it. The insurance you purchased could very well be owned by someone else in your household, with no personal identification on file with any of the insurers. You might also be buying insurance from someone in Texas, but you are purchasing it from a company based out of New Jersey. You would not even know they were \"selling\" insurance, since no documents are involved whatsoever.\\n\\n\\nThere is no need to go hunting for information concerning how this person operates -- just go back and look at the insurance policy itself. The whole concept is shady at best -- although it will be a while before it is discovered that you are being charged twice for one policy -- and even longer before you discover the total amount of your \"',\n",
       " 'Once upon a time, the U.S. government used the term \"terrorism\" to describe all of these actions. However in recent years, the U.S. has seen a shift to using the term \"domestic\" when referring to these actions and has begun to refer to the actions as \"lone wolf\" attacks. This change in wording has been made to align the U.S.\\'s policy to that of the European Community which has no terrorism designation. It\\'s interesting to note that the European Community, along with other countries in the Middle East, are the ones most affected by these actions.\\n\\nSo now that we know where U.S. policy has gone in regard to these types of acts, we can look back at events that occurred and draw our own conclusions about how \"domestic\" these activities were. Below are the events in chronological order and their \"domestic\" nature noted:\\n\\nSeptember 11, 2001\\n\\nThe United States government officially became aware of an al-Qaeda plot to attack the United States on the morning of September 11. The attacks hit home and the U.S. government quickly responded by announcing the War on Terror, a campaign that would bring the U.S. into a conflict with many Arab countries that',\n",
       " 'Once upon a time, it was said that you could get through life without drinking any alcohol. But today there exists a growing body of research showing that while alcohol may not adversely affect your life, it can certainly make it worse. What it may not do is make you fat, but it does make you less happy.\\n\\nOne of the most shocking findings comes from a study published in the journal Addiction, which showed that alcoholics who abstain from alcohol have a drastically worse quality of life. \"A study published in the May 8 issue of the journal Alcoholism: Clinical & Experimental Research showed that when people who drank moderately for a couple of years gave up alcohol, their emotional well-being markedly dropped,\" reports The Telegraph. In other words, it doesn\\'t matter how much you drink. The problem is how \"moderate\" you are, and the longer you abstain from alcohol, the poorer you\\'ll feel:\\n\\n\"Even a modest alcohol consumption — one to two drinks for a couple of hours a day — was enough to lower people\\'s positive or neutral mood, their general health and their general quality of life, according to researchers from the University of California, San Francisco.\"\\n\\nThat\\'s depressing. When alcohol\\'s used to enhance life as you know it',\n",
       " 'Once upon a time there was a little girl by the name of Lisa, who was quite a remarkable person, the same with her dad. However, after losing both her parents, Lisa soon got into trouble with a couple of her friends, and when one of them showed up with Lisa, she wasn\\'t the same person that she was before. This made her mother very worried and she asked Lisa, who was in the kitchen, to talk to her about it. Lisa took a deep breath, then started to explain what had happened in detail, but before reaching that part, she couldn\\'t help but think about how her dad had looked. She thought about how her dad was always happy, which was why her mother worried, but she was not the same person anymore. As the discussion was about to end, Lisa saw her mother walk towards her. Lisa knew that she wouldn\\'t miss.\\n\\nLisa\\'s eyes met those of her mother, as she turned back to the television. Lisa saw the familiar smile that accompanied her mother\\'s words, and her mother said, \"When do you plan on coming out to him in the evening?\"\\n\\n\"Tonight?\" Lisa\\'s eyes widened, it was late enough in the evening that neither she nor her father had yet left the house',\n",
       " \"Once upon a time, there was this great country, called America. And this country used to have a lot of big problems. They had the great financial crisis and a bunch of other financial problems that happened, and they got around in a great big way. Because this country got its economy really moving again. That's the beginning of the American Dream. And this country started doing great again. And the country's been on fire ever since. And what I want to see us do is give America a chance again. Don't let the opportunity pass you by. Be a hard-working American. That's what I believe. (Applause.) Give the people a chance. (Applause.)\\n\\nThat's what America's about. That's what it's about to me. The other day when we had the governors in the same room, and they said: 'Governor, let me tell you something; there's a lot of things out there as a president that's going to change the way that you think.' And I said: 'Are you speaking for the people of America?' And the people said: 'No.' And then I asked: 'Are you speaking for me?' And they said: 'No.' And I said: 'Well\",\n",
       " \"Once upon a time, the entire planet was covered in forests. Trees spread out all across the land--everything, including the tiniest plants and the most innocuous grass. But now that humans have overrun the entire planet, almost overnight, forests have become choked, barren wastelands of grass and dirt covering even the greener plants. These grassland animals have almost all lost their habitat. The ones that are left are in danger of extinction as the population of man-eating predators have decimated the number of animals that can feed on them, leaving only weak and dying trees.\\n\\nThis is not the first time forests have collapsed. As we began our journey, we had been fortunate to encounter the world's first wooded area. It was a good thing, for it was the last, and we had no more than a few hours to gather all that we needed to survive with our meager supplies. After that night we spent the rest of the day in a forest. This forest was a good spot for a few things we needed--a place for the water purification plant, for its heat to melt away the snow and cold, and for the food sources nearby for us animals. So we set up camp outside of the entrance to the purification field, and\",\n",
       " 'Once upon a time, before the Internet, you had a great deal of data that was coming from one of the traditional sources: newspapers, bookstores, catalogs, or radio shows. To put that into perspective, there are over 25 million books in circulation today, and at least 50 million of them are from bookstores. One in four Americans has a library card. So, this huge data set is available to us.\\n\\nBut, we don\\'t have that huge data set today. Now we can see the top five albums of the week, but if I want to see a song, I\\'m probably going to have to listen to it on the radio or on the radio station. We don\\'t have all that information at our fingertips anymore.\\n\\nIn the future, we\\'ll see even the information and stories that are stored on memory sticks and tapes, and perhaps in those things will be the way we\\'ll access that information. And so, I think that technology that allows people to carry memory around with them — it\\'s something we\\'ll see happen in the future.\\n\\nRyssdal: Okay. It\\'s fascinating. And you know that in a few years you might say, \"Well, this is old news.\" But I\\'m sure you are',\n",
       " \"Once upon a time, this guy was a good, decent person. His family is doing extremely well, and his daughters are thriving in a perfect world in China.\\n\\nAdvertisement\\n\\nBut he did things in China that were really bad. This all started in 2005 when the Chinese authorities found out that he had been downloading pornographic content.\\n\\nFor reasons unknown, some people decided that they didn't like someone because he downloaded some porn. They launched a massive investigation and raided his house. According to court documents, they found what they were looking for—1,900 DVD's filled with explicit porn.\\n\\nFor the sake of his privacy, we don't know what materials they found.\\n\\nThe guy was so shocked about all this that he turned himself in and spent 11 days in jail until he agreed to plead guilty and pay fines totalling $100,000.\\n\\nAdvertisement\\n\\nHe was sentenced to two years of probation and paid an enormous civil fine of $3.5 million to avoid a prison sentence.\\n\\nAll of the videos were confiscated.\\n\\nThe story is all over the web. It was reported at the time that over 80 percent of the material was illegal, and most of the material was of a hardcore nature.\\n\\n\",\n",
       " 'Once upon a time in the distant past a large number of people were killed in a battle among the gods. Some of the gods blamed the dead for causing the situation to occur, and those they blamed were executed.\\n\\nThe next time that there was a similar occurrence, the dead were told, \"There was a battle among the gods, but some were killed. We should blame for your death.\"\\n\\nThose you blame are executed, they said, so it\\'s easy, you see, to blame someone that you yourself killed.\\n\\nWhen Jesus Christ was born, all the religions came together and asked for the baptism of Jesus\\' blood and it was done. It was never asked \"who did it,\" but it was done. That\\'s one of the reasons why most people are not satisfied with this statement, \"I killed God.\"\\n\\nSo there is something that happened to God, but it was not his fault. One of the best verses in the Bible is Isaiah 45:8. In this passage, God is saying, \"I know that nothing that is being asked is against the will of God.\" This means that if you did it against the will of God, there is a good chance you are being blamed for it.\\n\\nIn addition,',\n",
       " \"Once upon a time...\\n\\n...it was a time when computers was a rare commodity worth the cost of owning one.\\n\\nWhen it came to computer hardware, the biggest seller was always the most expensive - the IBM PC. When you bought a new machine at the time, you could usually rely on your savings, or borrow from a friend or acquaintance.\\n\\nIn the early days of the computer revolution, this was enough of a reason for the average person to spend big on this precious but powerful machine.\\n\\nThe days have come where computer's popularity has fallen so substantially that many of us don't think we need any more, or want to upgrade any older machines - unless our current machines are getting rather old - but no!\\n\\nWe can afford them\\n\\nA lot of our old computers are still working. Most of them have over 20 years of life left in them and they will continue to be of great help in years to come.\\n\\nIt's still cheaper to buy new computers than new hardware for the same price, so in spite of this recent fall in the popularity of computers, you can continue to buy and install newer versions with every passing year. While it's still good practice to choose a product for the lifespan of the products,\",\n",
       " 'Once upon a time, the state of Michigan wanted to give the green light to \"a company with a history of outsourcing overseas work and failing businesses,\" according to a recent complaint filed in federal district court.\\n\\nThe suit was filed by the federal government\\'s Office of Inspector General on Wednesday after Michigan Secretary of State Ruth Johnson denied Enron\\'s request to hire the state for a job in a $500-million natural gas transmission and storage facility.\\n\\n\"Enron\\'s experience with outsourcing work and its failure to pay employees properly and on time are well-documented,\" Scott Hagerstrom, assistant inspector general for investigations, wrote in the complaint.\\n\\nEnron employs 1,000 workers working in about a dozen states. The company has been involved in numerous lawsuits over the years, including at least three over unpaid employees.\\n\\nBut the most recent was filed in May by two former employees for Enron Consulting Services Company. Those workers had said at the time that the company had failed them and other employees. The workers requested overtime pay.\\n\\nThe federal complaint says the federal government believes the company overcharged the state between $500,000 to $600,000 during the past three years — while collecting $1 million in direct state grants.\\n\\nThe',\n",
       " 'Once upon a time, there were three members of the Farsi-speaking community, Irani, Ahmadi, and Ahmadi.\" He was referring to two sects: Hazara and Shia.\\n\\n\\nAhmadis are followers of a famous 16th century Persian poet, Firdaus, who says, \"The followers of the Ahmadi School of Fiqh are not Muslims, they are non-Muslims. They have no religious right and can neither claim nor enjoy a place in the realm of Muslim religion.\"\\n\\nAhmadi beliefs come from a 15th century treatise which had \"written in Farsi and translated into classical Persian and Arabic by Ahmadiyya scholars.\" Ahmadiyya are the most vocal religious group in America and Pakistan who claim the mantle of \"Prophet\" Muhammad. There were once at least 16 and probably as many as 35 different and distinct Muslim sects, but over the last 100 years, the Ahmadi sect has spread widely in many parts of the world, and the founder of their faith is said to have survived a deadly assassination.\\n\\nIt is believed at this point that Ahmadis are the only Muslims who don\\'t believe that the Prophet Muhammad is the last prophet.\\n\\nWhen asked about a',\n",
       " \"Once upon a time…\\n\\nBack in 1998, the New York City borough of Park Slope voted to become the first in the U.S. to require the use of reusables recycling bins and to buy and compost them — just like those across the nation, and just like the one in my apartment.\\n\\nI'm part of a national effort to do this. We're called Recology and we're making big plays across the country and to make people aware and responsible for choosing and using the resources they're using.\\n\\nTo be honest, in the weeks following the May 13 election, I sort of lost all sense of how serious those of us pushing for reusables recycling bins were. Our actions were merely symbolic. Our work was too small to matter. It was just another issue, and it was easily relegated to that list alongside everything that's already happened and that might happen, which — by extension — includes all the things we were ignoring along the way. Even though we didn't really have a great shot at winning the May 13 election, we decided to take our fight to the voters anyway.\\n\\nSurely, someone would tell us it's useless.\\n\\nSo many people — even those who knew the issue well — thought it\",\n",
       " 'Once upon a time, the notion that a college graduate could be a \"bad\" person was a joke. A student who earned an associate degree from a top-notch school would no longer have any trouble getting a job because they were a bit of a risk for the companies that wanted to recruit from them. We thought it was funny that an engineer could be an idiot, but the concept of a \"bad\" graduate was not taken seriously by anyone else. I don\\'t want to say that colleges in America have too much respect for their students, because that would be stupid, but I do believe that they have a tendency to place too much emphasis on the academic portion of a college education in order to get students from high-poverty communities to enroll in their school. I can\\'t say that the people at Rutgers have a bad track record in this regard, but they are definitely not good at making an informed decision about going to college.\\n\\nI had hoped that New Rutgers would provide me some assistance in making an informed decision, but I quickly discovered that its decision-making process is nothing short of dysfunctional. Once you are admitted to the university, all that you will have to deal with is a student body that thinks it owes you money because you are too rich']"
      ]
     },
     "execution_count": 8,
     "metadata": {},
     "output_type": "execute_result"
    }
   ],
   "source": [
    "texts_gpt"
   ]
  },
  {
   "cell_type": "code",
   "execution_count": 12,
   "id": "a3b8d4ae-bcda-4e78-a5ce-7d373de587e4",
   "metadata": {},
   "outputs": [
    {
     "name": "stderr",
     "output_type": "stream",
     "text": [
      "Using pad_token, but it is not set yet.\n"
     ]
    },
    {
     "data": {
      "application/vnd.jupyter.widget-view+json": {
       "model_id": "7b733d34c6954ebba3973c60bad2a961",
       "version_major": 2,
       "version_minor": 0
      },
      "text/plain": [
       "  0%|          | 0/1 [00:00<?, ?it/s]"
      ]
     },
     "metadata": {},
     "output_type": "display_data"
    }
   ],
   "source": [
    "import evaluate\n",
    "\n",
    "perplexity = evaluate.load(\"perplexity\", module_type=\"metric\")\n",
    "results_gpt = perplexity.compute(predictions=texts_gpt, batch_size=16, model_id='gpt2-large', device=\"cuda\")"
   ]
  },
  {
   "cell_type": "code",
   "execution_count": 13,
   "id": "05f2f587-c6da-4723-940f-2970927739f4",
   "metadata": {},
   "outputs": [
    {
     "data": {
      "text/plain": [
       "11.03925010561943"
      ]
     },
     "execution_count": 13,
     "metadata": {},
     "output_type": "execute_result"
    }
   ],
   "source": [
    "results_gpt['mean_perplexity']"
   ]
  },
  {
   "cell_type": "code",
   "execution_count": null,
   "id": "b4c7bc3f-70d5-4f87-8bd9-76923fd73801",
   "metadata": {},
   "outputs": [],
   "source": []
  }
 ],
 "metadata": {
  "kernelspec": {
   "display_name": "Python 3 (ipykernel)",
   "language": "python",
   "name": "python3"
  },
  "language_info": {
   "codemirror_mode": {
    "name": "ipython",
    "version": 3
   },
   "file_extension": ".py",
   "mimetype": "text/x-python",
   "name": "python",
   "nbconvert_exporter": "python",
   "pygments_lexer": "ipython3",
   "version": "3.9.16"
  }
 },
 "nbformat": 4,
 "nbformat_minor": 5
}
